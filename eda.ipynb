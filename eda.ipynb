{
 "cells": [
  {
   "cell_type": "markdown",
   "metadata": {
    "pycharm": {
     "name": "#%% md\n"
    }
   },
   "source": [
    "# Data Glacier Online Virtual Internship\n",
    "## G2M Case Study\n",
    "### Presented by Giorgos Moysiadis\n"
   ]
  },
  {
   "cell_type": "markdown",
   "metadata": {
    "pycharm": {
     "name": "#%% md\n"
    }
   },
   "source": [
    "Importing primary libraries"
   ]
  },
  {
   "cell_type": "code",
   "execution_count": 54,
   "metadata": {
    "pycharm": {
     "name": "#%%\n"
    }
   },
   "outputs": [],
   "source": [
    "import pandas as pd\n",
    "import matplotlib.pyplot as plt\n",
    "import seaborn as sns"
   ]
  },
  {
   "cell_type": "markdown",
   "metadata": {
    "pycharm": {
     "name": "#%% md\n"
    }
   },
   "source": [
    "Reading the datasets"
   ]
  },
  {
   "cell_type": "code",
   "execution_count": 55,
   "metadata": {
    "pycharm": {
     "name": "#%%\n"
    }
   },
   "outputs": [],
   "source": [
    "cab_data = pd.read_csv('data/Cab_Data.csv')\n",
    "customers_data = pd.read_csv('data/Customer_ID.csv')\n",
    "transactions_data = pd.read_csv('data/Transaction_ID.csv')\n",
    "cities_data = pd.read_csv('data/City.csv')"
   ]
  },
  {
   "cell_type": "markdown",
   "metadata": {
    "pycharm": {
     "name": "#%% md\n"
    }
   },
   "source": [
    "### The 4 datasets contain\n",
    "1. Cab_Data – describes details of transaction for 2 cab companies, like KM travelled, city, etc <br>\n",
    "2. Customer_ID –  contains a unique identifier which links the customer’s demographic details, like age and income <br>\n",
    "3. Transaction_ID –  contains transactions of customers mapping their id and their payment method (cash/credit) <br>\n",
    "4. City –  contains list of US cities, their population and number of cab users <br>"
   ]
  },
  {
   "cell_type": "code",
   "execution_count": 56,
   "outputs": [
    {
     "data": {
      "text/plain": "   Transaction ID Date of Travel   Company        City  KM Travelled  \\\n0        10000011     08-01-2016  Pink Cab  ATLANTA GA         30.45   \n1        10000012     06-01-2016  Pink Cab  ATLANTA GA         28.62   \n2        10000013     02-01-2016  Pink Cab  ATLANTA GA          9.04   \n3        10000014     07-01-2016  Pink Cab  ATLANTA GA         33.17   \n4        10000015     03-01-2016  Pink Cab  ATLANTA GA          8.73   \n\n   Price Charged  Cost of Trip  \n0         370.95       313.635  \n1         358.52       334.854  \n2         125.20        97.632  \n3         377.40       351.602  \n4         114.62        97.776  ",
      "text/html": "<div>\n<style scoped>\n    .dataframe tbody tr th:only-of-type {\n        vertical-align: middle;\n    }\n\n    .dataframe tbody tr th {\n        vertical-align: top;\n    }\n\n    .dataframe thead th {\n        text-align: right;\n    }\n</style>\n<table border=\"1\" class=\"dataframe\">\n  <thead>\n    <tr style=\"text-align: right;\">\n      <th></th>\n      <th>Transaction ID</th>\n      <th>Date of Travel</th>\n      <th>Company</th>\n      <th>City</th>\n      <th>KM Travelled</th>\n      <th>Price Charged</th>\n      <th>Cost of Trip</th>\n    </tr>\n  </thead>\n  <tbody>\n    <tr>\n      <th>0</th>\n      <td>10000011</td>\n      <td>08-01-2016</td>\n      <td>Pink Cab</td>\n      <td>ATLANTA GA</td>\n      <td>30.45</td>\n      <td>370.95</td>\n      <td>313.635</td>\n    </tr>\n    <tr>\n      <th>1</th>\n      <td>10000012</td>\n      <td>06-01-2016</td>\n      <td>Pink Cab</td>\n      <td>ATLANTA GA</td>\n      <td>28.62</td>\n      <td>358.52</td>\n      <td>334.854</td>\n    </tr>\n    <tr>\n      <th>2</th>\n      <td>10000013</td>\n      <td>02-01-2016</td>\n      <td>Pink Cab</td>\n      <td>ATLANTA GA</td>\n      <td>9.04</td>\n      <td>125.20</td>\n      <td>97.632</td>\n    </tr>\n    <tr>\n      <th>3</th>\n      <td>10000014</td>\n      <td>07-01-2016</td>\n      <td>Pink Cab</td>\n      <td>ATLANTA GA</td>\n      <td>33.17</td>\n      <td>377.40</td>\n      <td>351.602</td>\n    </tr>\n    <tr>\n      <th>4</th>\n      <td>10000015</td>\n      <td>03-01-2016</td>\n      <td>Pink Cab</td>\n      <td>ATLANTA GA</td>\n      <td>8.73</td>\n      <td>114.62</td>\n      <td>97.776</td>\n    </tr>\n  </tbody>\n</table>\n</div>"
     },
     "execution_count": 56,
     "metadata": {},
     "output_type": "execute_result"
    }
   ],
   "source": [
    "cab_data.head()"
   ],
   "metadata": {
    "collapsed": false,
    "pycharm": {
     "name": "#%%\n"
    }
   }
  },
  {
   "cell_type": "code",
   "execution_count": 57,
   "outputs": [
    {
     "data": {
      "text/plain": "   Customer ID Gender  Age  Income (USD/Month)\n0        29290   Male   28               10813\n1        27703   Male   27                9237\n2        28712   Male   53               11242\n3        28020   Male   23               23327\n4        27182   Male   33                8536",
      "text/html": "<div>\n<style scoped>\n    .dataframe tbody tr th:only-of-type {\n        vertical-align: middle;\n    }\n\n    .dataframe tbody tr th {\n        vertical-align: top;\n    }\n\n    .dataframe thead th {\n        text-align: right;\n    }\n</style>\n<table border=\"1\" class=\"dataframe\">\n  <thead>\n    <tr style=\"text-align: right;\">\n      <th></th>\n      <th>Customer ID</th>\n      <th>Gender</th>\n      <th>Age</th>\n      <th>Income (USD/Month)</th>\n    </tr>\n  </thead>\n  <tbody>\n    <tr>\n      <th>0</th>\n      <td>29290</td>\n      <td>Male</td>\n      <td>28</td>\n      <td>10813</td>\n    </tr>\n    <tr>\n      <th>1</th>\n      <td>27703</td>\n      <td>Male</td>\n      <td>27</td>\n      <td>9237</td>\n    </tr>\n    <tr>\n      <th>2</th>\n      <td>28712</td>\n      <td>Male</td>\n      <td>53</td>\n      <td>11242</td>\n    </tr>\n    <tr>\n      <th>3</th>\n      <td>28020</td>\n      <td>Male</td>\n      <td>23</td>\n      <td>23327</td>\n    </tr>\n    <tr>\n      <th>4</th>\n      <td>27182</td>\n      <td>Male</td>\n      <td>33</td>\n      <td>8536</td>\n    </tr>\n  </tbody>\n</table>\n</div>"
     },
     "execution_count": 57,
     "metadata": {},
     "output_type": "execute_result"
    }
   ],
   "source": [
    "customers_data.head()"
   ],
   "metadata": {
    "collapsed": false,
    "pycharm": {
     "name": "#%%\n"
    }
   }
  },
  {
   "cell_type": "code",
   "execution_count": 58,
   "outputs": [
    {
     "data": {
      "text/plain": "   Transaction ID  Customer ID Payment Mode\n0        10000011        29290         Card\n1        10000012        27703         Card\n2        10000013        28712         Cash\n3        10000014        28020         Cash\n4        10000015        27182         Card",
      "text/html": "<div>\n<style scoped>\n    .dataframe tbody tr th:only-of-type {\n        vertical-align: middle;\n    }\n\n    .dataframe tbody tr th {\n        vertical-align: top;\n    }\n\n    .dataframe thead th {\n        text-align: right;\n    }\n</style>\n<table border=\"1\" class=\"dataframe\">\n  <thead>\n    <tr style=\"text-align: right;\">\n      <th></th>\n      <th>Transaction ID</th>\n      <th>Customer ID</th>\n      <th>Payment Mode</th>\n    </tr>\n  </thead>\n  <tbody>\n    <tr>\n      <th>0</th>\n      <td>10000011</td>\n      <td>29290</td>\n      <td>Card</td>\n    </tr>\n    <tr>\n      <th>1</th>\n      <td>10000012</td>\n      <td>27703</td>\n      <td>Card</td>\n    </tr>\n    <tr>\n      <th>2</th>\n      <td>10000013</td>\n      <td>28712</td>\n      <td>Cash</td>\n    </tr>\n    <tr>\n      <th>3</th>\n      <td>10000014</td>\n      <td>28020</td>\n      <td>Cash</td>\n    </tr>\n    <tr>\n      <th>4</th>\n      <td>10000015</td>\n      <td>27182</td>\n      <td>Card</td>\n    </tr>\n  </tbody>\n</table>\n</div>"
     },
     "execution_count": 58,
     "metadata": {},
     "output_type": "execute_result"
    }
   ],
   "source": [
    "transactions_data.head()"
   ],
   "metadata": {
    "collapsed": false,
    "pycharm": {
     "name": "#%%\n"
    }
   }
  },
  {
   "cell_type": "code",
   "execution_count": 59,
   "outputs": [
    {
     "data": {
      "text/plain": "             City   Population      Users\n0     NEW YORK NY   8,405,837    302,149 \n1      CHICAGO IL   1,955,130    164,468 \n2  LOS ANGELES CA   1,595,037    144,132 \n3        MIAMI FL   1,339,155     17,675 \n4  SILICON VALLEY   1,177,609     27,247 ",
      "text/html": "<div>\n<style scoped>\n    .dataframe tbody tr th:only-of-type {\n        vertical-align: middle;\n    }\n\n    .dataframe tbody tr th {\n        vertical-align: top;\n    }\n\n    .dataframe thead th {\n        text-align: right;\n    }\n</style>\n<table border=\"1\" class=\"dataframe\">\n  <thead>\n    <tr style=\"text-align: right;\">\n      <th></th>\n      <th>City</th>\n      <th>Population</th>\n      <th>Users</th>\n    </tr>\n  </thead>\n  <tbody>\n    <tr>\n      <th>0</th>\n      <td>NEW YORK NY</td>\n      <td>8,405,837</td>\n      <td>302,149</td>\n    </tr>\n    <tr>\n      <th>1</th>\n      <td>CHICAGO IL</td>\n      <td>1,955,130</td>\n      <td>164,468</td>\n    </tr>\n    <tr>\n      <th>2</th>\n      <td>LOS ANGELES CA</td>\n      <td>1,595,037</td>\n      <td>144,132</td>\n    </tr>\n    <tr>\n      <th>3</th>\n      <td>MIAMI FL</td>\n      <td>1,339,155</td>\n      <td>17,675</td>\n    </tr>\n    <tr>\n      <th>4</th>\n      <td>SILICON VALLEY</td>\n      <td>1,177,609</td>\n      <td>27,247</td>\n    </tr>\n  </tbody>\n</table>\n</div>"
     },
     "execution_count": 59,
     "metadata": {},
     "output_type": "execute_result"
    }
   ],
   "source": [
    "cities_data.head()"
   ],
   "metadata": {
    "collapsed": false,
    "pycharm": {
     "name": "#%%\n"
    }
   }
  },
  {
   "cell_type": "markdown",
   "source": [
    "As we can see with `.head()` we see that we have columns that are case sensitive and have spaces between each word. <br>\n",
    "In order to solve this inconvinience we are going to make everything in lower case and replace the spaces with underscores."
   ],
   "metadata": {
    "collapsed": false,
    "pycharm": {
     "name": "#%% md\n"
    }
   }
  },
  {
   "cell_type": "code",
   "execution_count": 60,
   "outputs": [],
   "source": [
    "# replace spaces with underscore\n",
    "for col in cab_data.columns:\n",
    "    if ' ' in col:\n",
    "        cab_data = cab_data.rename(columns={col:col.replace(' ', '_')})\n",
    "for col in customers_data.columns:\n",
    "    if ' ' in col:\n",
    "        customers_data = customers_data.rename(columns={col:col.replace(' ', '_')})\n",
    "for col in transactions_data.columns:\n",
    "    if ' ' in col:\n",
    "        transactions_data = transactions_data.rename(columns={col:col.replace(' ', '_')})\n",
    "\n",
    "# lowercase all columns\n",
    "cab_data.columns = map(str.lower, cab_data.columns)\n",
    "customers_data.columns = map(str.lower, customers_data.columns)\n",
    "customers_data = customers_data.rename(columns={'income_(usd/month)':'income'})\n",
    "transactions_data.columns = map(str.lower, transactions_data.columns)\n",
    "cities_data.columns = map(str.lower, cities_data.columns)"
   ],
   "metadata": {
    "collapsed": false,
    "pycharm": {
     "name": "#%%\n"
    }
   }
  },
  {
   "cell_type": "markdown",
   "source": [
    "Column `date_of_travel` is in `str` type so we are going to change it to `datetime` type for ease of use"
   ],
   "metadata": {
    "collapsed": false,
    "pycharm": {
     "name": "#%% md\n"
    }
   }
  },
  {
   "cell_type": "code",
   "execution_count": 61,
   "metadata": {
    "pycharm": {
     "name": "#%%\n"
    }
   },
   "outputs": [],
   "source": [
    "cab_data['date_of_travel'] = pd.to_datetime(cab_data['date_of_travel'], format='%d-%m-%Y')"
   ]
  },
  {
   "cell_type": "markdown",
   "source": [
    "We are going to split the dates into months and years in order to be able to provide more insight with monthly data"
   ],
   "metadata": {
    "collapsed": false,
    "pycharm": {
     "name": "#%% md\n"
    }
   }
  },
  {
   "cell_type": "code",
   "execution_count": 62,
   "metadata": {
    "pycharm": {
     "name": "#%%\n"
    }
   },
   "outputs": [
    {
     "data": {
      "text/plain": "   transaction_id   company        city  km_travelled  price_charged  \\\n0        10000011  Pink Cab  ATLANTA GA         30.45         370.95   \n1        10000012  Pink Cab  ATLANTA GA         28.62         358.52   \n2        10000013  Pink Cab  ATLANTA GA          9.04         125.20   \n3        10000014  Pink Cab  ATLANTA GA         33.17         377.40   \n4        10000015  Pink Cab  ATLANTA GA          8.73         114.62   \n\n   cost_of_trip  month  year  \n0       313.635      1  2016  \n1       334.854      1  2016  \n2        97.632      1  2016  \n3       351.602      1  2016  \n4        97.776      1  2016  ",
      "text/html": "<div>\n<style scoped>\n    .dataframe tbody tr th:only-of-type {\n        vertical-align: middle;\n    }\n\n    .dataframe tbody tr th {\n        vertical-align: top;\n    }\n\n    .dataframe thead th {\n        text-align: right;\n    }\n</style>\n<table border=\"1\" class=\"dataframe\">\n  <thead>\n    <tr style=\"text-align: right;\">\n      <th></th>\n      <th>transaction_id</th>\n      <th>company</th>\n      <th>city</th>\n      <th>km_travelled</th>\n      <th>price_charged</th>\n      <th>cost_of_trip</th>\n      <th>month</th>\n      <th>year</th>\n    </tr>\n  </thead>\n  <tbody>\n    <tr>\n      <th>0</th>\n      <td>10000011</td>\n      <td>Pink Cab</td>\n      <td>ATLANTA GA</td>\n      <td>30.45</td>\n      <td>370.95</td>\n      <td>313.635</td>\n      <td>1</td>\n      <td>2016</td>\n    </tr>\n    <tr>\n      <th>1</th>\n      <td>10000012</td>\n      <td>Pink Cab</td>\n      <td>ATLANTA GA</td>\n      <td>28.62</td>\n      <td>358.52</td>\n      <td>334.854</td>\n      <td>1</td>\n      <td>2016</td>\n    </tr>\n    <tr>\n      <th>2</th>\n      <td>10000013</td>\n      <td>Pink Cab</td>\n      <td>ATLANTA GA</td>\n      <td>9.04</td>\n      <td>125.20</td>\n      <td>97.632</td>\n      <td>1</td>\n      <td>2016</td>\n    </tr>\n    <tr>\n      <th>3</th>\n      <td>10000014</td>\n      <td>Pink Cab</td>\n      <td>ATLANTA GA</td>\n      <td>33.17</td>\n      <td>377.40</td>\n      <td>351.602</td>\n      <td>1</td>\n      <td>2016</td>\n    </tr>\n    <tr>\n      <th>4</th>\n      <td>10000015</td>\n      <td>Pink Cab</td>\n      <td>ATLANTA GA</td>\n      <td>8.73</td>\n      <td>114.62</td>\n      <td>97.776</td>\n      <td>1</td>\n      <td>2016</td>\n    </tr>\n  </tbody>\n</table>\n</div>"
     },
     "execution_count": 62,
     "metadata": {},
     "output_type": "execute_result"
    }
   ],
   "source": [
    "months=[]\n",
    "years =[]\n",
    "for i in range(len(cab_data['date_of_travel'])):\n",
    "    months.append(cab_data['date_of_travel'][i].month)\n",
    "    years.append(cab_data['date_of_travel'][i].year)\n",
    "\n",
    "cab_data['month'] = months\n",
    "cab_data['year'] = years\n",
    "\n",
    "cab_data = cab_data.drop(['date_of_travel'], axis=1)\n",
    "cab_data.head()"
   ]
  },
  {
   "cell_type": "markdown",
   "metadata": {
    "pycharm": {
     "name": "#%% md\n"
    }
   },
   "source": [
    "Monthly transactions"
   ]
  },
  {
   "cell_type": "code",
   "execution_count": 63,
   "metadata": {
    "pycharm": {
     "name": "#%%\n"
    }
   },
   "outputs": [],
   "source": [
    "pink_monthly = cab_data[cab_data.company=='Pink Cab'].groupby('month').transaction_id.count()\n",
    "yellow_monthly = cab_data[cab_data.company=='Yellow Cab'].groupby('month').transaction_id.count()"
   ]
  },
  {
   "cell_type": "code",
   "execution_count": 64,
   "outputs": [
    {
     "data": {
      "text/plain": "<Figure size 1008x432 with 1 Axes>",
      "image/png": "[encoded data removed]"
     },
     "metadata": {
      "needs_background": "light"
     },
     "output_type": "display_data"
    }
   ],
   "source": [
    "plt.figure(figsize=(14,6))\n",
    "ax = plt.subplot(111)\n",
    "ax.bar(pink_monthly.index-0.2, pink_monthly.values, width=0.4, color='magenta', align='center', label='Pink Cab')\n",
    "ax.bar(pink_monthly.index+0.2, yellow_monthly.values, width=0.4, color='yellow', align='center', label='Yellow Cab')\n",
    "plt.ylabel('No. of Transactions')\n",
    "plt.xlabel('Month')\n",
    "plt.legend()\n",
    "plt.show()"
   ],
   "metadata": {
    "collapsed": false,
    "pycharm": {
     "name": "#%%\n"
    }
   }
  },
  {
   "cell_type": "markdown",
   "source": [
    "Joining all data together"
   ],
   "metadata": {
    "collapsed": false,
    "pycharm": {
     "name": "#%% md\n"
    }
   }
  },
  {
   "cell_type": "code",
   "execution_count": 65,
   "outputs": [
    {
     "data": {
      "text/plain": "        transaction_id  customer_id     company           city  km_travelled  \\\n0             10000011        29290    Pink Cab     ATLANTA GA         30.45   \n1             10000012        27703    Pink Cab     ATLANTA GA         28.62   \n2             10000013        28712    Pink Cab     ATLANTA GA          9.04   \n3             10000014        28020    Pink Cab     ATLANTA GA         33.17   \n4             10000015        27182    Pink Cab     ATLANTA GA          8.73   \n...                ...          ...         ...            ...           ...   \n359387        10440101        52392  Yellow Cab  WASHINGTON DC          4.80   \n359388        10440104        53286  Yellow Cab  WASHINGTON DC          8.40   \n359389        10440105        52265  Yellow Cab  WASHINGTON DC         27.75   \n359390        10440106        52175  Yellow Cab  WASHINGTON DC          8.80   \n359391        10440107        52917  Yellow Cab  WASHINGTON DC         12.76   \n\n        price_charged  cost_of_trip  month  year payment_mode gender  age  \\\n0              370.95      313.6350      1  2016         Card   Male   28   \n1              358.52      334.8540      1  2016         Card   Male   27   \n2              125.20       97.6320      1  2016         Cash   Male   53   \n3              377.40      351.6020      1  2016         Cash   Male   23   \n4              114.62       97.7760      1  2016         Card   Male   33   \n...               ...           ...    ...   ...          ...    ...  ...   \n359387          69.24       63.3600      1  2018         Cash   Male   24   \n359388         113.75      106.8480      1  2018         Cash   Male   32   \n359389         437.07      349.6500      1  2018         Cash   Male   56   \n359390         146.19      114.0480      1  2018         Card   Male   32   \n359391         191.58      177.6192      1  2018         Card   Male   20   \n\n        income  \n0        10813  \n1         9237  \n2        11242  \n3        23327  \n4         8536  \n...        ...  \n359387   15651  \n359388    6528  \n359389    7966  \n359390    6423  \n359391   11284  \n\n[359392 rows x 13 columns]",
      "text/html": "<div>\n<style scoped>\n    .dataframe tbody tr th:only-of-type {\n        vertical-align: middle;\n    }\n\n    .dataframe tbody tr th {\n        vertical-align: top;\n    }\n\n    .dataframe thead th {\n        text-align: right;\n    }\n</style>\n<table border=\"1\" class=\"dataframe\">\n  <thead>\n    <tr style=\"text-align: right;\">\n      <th></th>\n      <th>transaction_id</th>\n      <th>customer_id</th>\n      <th>company</th>\n      <th>city</th>\n      <th>km_travelled</th>\n      <th>price_charged</th>\n      <th>cost_of_trip</th>\n      <th>month</th>\n      <th>year</th>\n      <th>payment_mode</th>\n      <th>gender</th>\n      <th>age</th>\n      <th>income</th>\n    </tr>\n  </thead>\n  <tbody>\n    <tr>\n      <th>0</th>\n      <td>10000011</td>\n      <td>29290</td>\n      <td>Pink Cab</td>\n      <td>ATLANTA GA</td>\n      <td>30.45</td>\n      <td>370.95</td>\n      <td>313.6350</td>\n      <td>1</td>\n      <td>2016</td>\n      <td>Card</td>\n      <td>Male</td>\n      <td>28</td>\n      <td>10813</td>\n    </tr>\n    <tr>\n      <th>1</th>\n      <td>10000012</td>\n      <td>27703</td>\n      <td>Pink Cab</td>\n      <td>ATLANTA GA</td>\n      <td>28.62</td>\n      <td>358.52</td>\n      <td>334.8540</td>\n      <td>1</td>\n      <td>2016</td>\n      <td>Card</td>\n      <td>Male</td>\n      <td>27</td>\n      <td>9237</td>\n    </tr>\n    <tr>\n      <th>2</th>\n      <td>10000013</td>\n      <td>28712</td>\n      <td>Pink Cab</td>\n      <td>ATLANTA GA</td>\n      <td>9.04</td>\n      <td>125.20</td>\n      <td>97.6320</td>\n      <td>1</td>\n      <td>2016</td>\n      <td>Cash</td>\n      <td>Male</td>\n      <td>53</td>\n      <td>11242</td>\n    </tr>\n    <tr>\n      <th>3</th>\n      <td>10000014</td>\n      <td>28020</td>\n      <td>Pink Cab</td>\n      <td>ATLANTA GA</td>\n      <td>33.17</td>\n      <td>377.40</td>\n      <td>351.6020</td>\n      <td>1</td>\n      <td>2016</td>\n      <td>Cash</td>\n      <td>Male</td>\n      <td>23</td>\n      <td>23327</td>\n    </tr>\n    <tr>\n      <th>4</th>\n      <td>10000015</td>\n      <td>27182</td>\n      <td>Pink Cab</td>\n      <td>ATLANTA GA</td>\n      <td>8.73</td>\n      <td>114.62</td>\n      <td>97.7760</td>\n      <td>1</td>\n      <td>2016</td>\n      <td>Card</td>\n      <td>Male</td>\n      <td>33</td>\n      <td>8536</td>\n    </tr>\n    <tr>\n      <th>...</th>\n      <td>...</td>\n      <td>...</td>\n      <td>...</td>\n      <td>...</td>\n      <td>...</td>\n      <td>...</td>\n      <td>...</td>\n      <td>...</td>\n      <td>...</td>\n      <td>...</td>\n      <td>...</td>\n      <td>...</td>\n      <td>...</td>\n    </tr>\n    <tr>\n      <th>359387</th>\n      <td>10440101</td>\n      <td>52392</td>\n      <td>Yellow Cab</td>\n      <td>WASHINGTON DC</td>\n      <td>4.80</td>\n      <td>69.24</td>\n      <td>63.3600</td>\n      <td>1</td>\n      <td>2018</td>\n      <td>Cash</td>\n      <td>Male</td>\n      <td>24</td>\n      <td>15651</td>\n    </tr>\n    <tr>\n      <th>359388</th>\n      <td>10440104</td>\n      <td>53286</td>\n      <td>Yellow Cab</td>\n      <td>WASHINGTON DC</td>\n      <td>8.40</td>\n      <td>113.75</td>\n      <td>106.8480</td>\n      <td>1</td>\n      <td>2018</td>\n      <td>Cash</td>\n      <td>Male</td>\n      <td>32</td>\n      <td>6528</td>\n    </tr>\n    <tr>\n      <th>359389</th>\n      <td>10440105</td>\n      <td>52265</td>\n      <td>Yellow Cab</td>\n      <td>WASHINGTON DC</td>\n      <td>27.75</td>\n      <td>437.07</td>\n      <td>349.6500</td>\n      <td>1</td>\n      <td>2018</td>\n      <td>Cash</td>\n      <td>Male</td>\n      <td>56</td>\n      <td>7966</td>\n    </tr>\n    <tr>\n      <th>359390</th>\n      <td>10440106</td>\n      <td>52175</td>\n      <td>Yellow Cab</td>\n      <td>WASHINGTON DC</td>\n      <td>8.80</td>\n      <td>146.19</td>\n      <td>114.0480</td>\n      <td>1</td>\n      <td>2018</td>\n      <td>Card</td>\n      <td>Male</td>\n      <td>32</td>\n      <td>6423</td>\n    </tr>\n    <tr>\n      <th>359391</th>\n      <td>10440107</td>\n      <td>52917</td>\n      <td>Yellow Cab</td>\n      <td>WASHINGTON DC</td>\n      <td>12.76</td>\n      <td>191.58</td>\n      <td>177.6192</td>\n      <td>1</td>\n      <td>2018</td>\n      <td>Card</td>\n      <td>Male</td>\n      <td>20</td>\n      <td>11284</td>\n    </tr>\n  </tbody>\n</table>\n<p>359392 rows × 13 columns</p>\n</div>"
     },
     "execution_count": 65,
     "metadata": {},
     "output_type": "execute_result"
    }
   ],
   "source": [
    "left = cab_data.set_index(['transaction_id'])\n",
    "right = transactions_data.set_index(['transaction_id'])\n",
    "data = left.join(right)\n",
    "left = data.set_index([data.index,'customer_id'])\n",
    "right = customers_data.set_index(['customer_id'])\n",
    "data = left.join(right)\n",
    "data = data.reset_index()\n",
    "data"
   ],
   "metadata": {
    "collapsed": false,
    "pycharm": {
     "name": "#%%\n"
    }
   }
  },
  {
   "cell_type": "code",
   "execution_count": 65,
   "outputs": [],
   "source": [],
   "metadata": {
    "collapsed": false,
    "pycharm": {
     "name": "#%%\n"
    }
   }
  }
 ],
 "metadata": {
  "kernelspec": {
   "display_name": "Python 3 (ipykernel)",
   "language": "python",
   "name": "python3"
  },
  "language_info": {
   "codemirror_mode": {
    "name": "ipython",
    "version": 3
   },
   "file_extension": ".py",
   "mimetype": "text/x-python",
   "name": "python",
   "nbconvert_exporter": "python",
   "pygments_lexer": "ipython3",
   "version": "3.9.5"
  }
 },
 "nbformat": 4,
 "nbformat_minor": 1
}