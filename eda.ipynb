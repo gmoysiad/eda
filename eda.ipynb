{
 "cells": [
  {
   "cell_type": "code",
   "execution_count": 12,
   "outputs": [],
   "source": [
    "import pandas as pd\n",
    "import matplotlib.pyplot as plt\n",
    "import seaborn as sns"
   ],
   "metadata": {
    "collapsed": false,
    "pycharm": {
     "name": "#%%\n"
    }
   }
  },
  {
   "cell_type": "code",
   "execution_count": 13,
   "outputs": [],
   "source": [
    "cab = pd.read_csv('data/Cab_Data.csv')\n",
    "customers = pd.read_csv('data/Customer_ID.csv')\n",
    "transactions = pd.read_csv('data/Transaction_ID.csv')\n",
    "cities = pd.read_csv('data/City.csv')"
   ],
   "metadata": {
    "collapsed": false,
    "pycharm": {
     "name": "#%%\n"
    }
   }
  },
  {
   "cell_type": "code",
   "execution_count": 14,
   "outputs": [],
   "source": [
    "cab['Date of Travel'] = pd.to_datetime(cab['Date of Travel'], format='%d-%m-%Y')"
   ],
   "metadata": {
    "collapsed": false,
    "pycharm": {
     "name": "#%%\n"
    }
   }
  },
  {
   "cell_type": "code",
   "execution_count": 15,
   "outputs": [
    {
     "data": {
      "text/plain": "0        2016-01-08\n1        2016-01-06\n2        2016-01-02\n3        2016-01-07\n4        2016-01-03\n            ...    \n359387   2018-01-08\n359388   2018-01-04\n359389   2018-01-05\n359390   2018-01-05\n359391   2018-01-02\nName: Date of Travel, Length: 359392, dtype: datetime64[ns]"
     },
     "execution_count": 15,
     "metadata": {},
     "output_type": "execute_result"
    }
   ],
   "source": [
    "cab['Date of Travel']"
   ],
   "metadata": {
    "collapsed": false,
    "pycharm": {
     "name": "#%%\n"
    }
   }
  },
  {
   "cell_type": "code",
   "execution_count": 16,
   "outputs": [],
   "source": [
    "for col in cab.columns:\n",
    "    if ' ' in col:\n",
    "        cab = cab.rename(columns={col:col.replace(' ', '_')})\n",
    "for col in customers.columns:\n",
    "    if ' ' in col:\n",
    "        customers = customers.rename(columns={col:col.replace(' ', '_')})\n",
    "for col in transactions.columns:\n",
    "    if ' ' in col:\n",
    "        transactions = transactions.rename(columns={col:col.replace(' ', '_')})"
   ],
   "metadata": {
    "collapsed": false,
    "pycharm": {
     "name": "#%%\n"
    }
   }
  },
  {
   "cell_type": "code",
   "execution_count": 17,
   "outputs": [
    {
     "data": {
      "text/plain": "1095"
     },
     "execution_count": 17,
     "metadata": {},
     "output_type": "execute_result"
    }
   ],
   "source": [
    "cab.Date_of_Travel.nunique()"
   ],
   "metadata": {
    "collapsed": false,
    "pycharm": {
     "name": "#%%\n"
    }
   }
  },
  {
   "cell_type": "code",
   "execution_count": 18,
   "outputs": [
    {
     "data": {
      "text/plain": "Date_of_Travel\n2018-01-05    2022\n2017-12-15    1123\n2017-12-08    1100\n2018-12-15    1086\n2017-11-24    1085\n2018-12-22    1084\n2018-12-14    1076\n2017-12-22    1042\n2018-11-24    1037\n2018-01-06    1032\nName: Transaction_ID, dtype: int64"
     },
     "execution_count": 18,
     "metadata": {},
     "output_type": "execute_result"
    }
   ],
   "source": [
    "cab.groupby('Date_of_Travel').Transaction_ID.count().sort_values(ascending=False).head(10)"
   ],
   "metadata": {
    "collapsed": false,
    "pycharm": {
     "name": "#%%\n"
    }
   }
  },
  {
   "cell_type": "code",
   "execution_count": 19,
   "outputs": [],
   "source": [
    "months=[]\n",
    "years =[]\n",
    "for i in range(len(cab['Date_of_Travel'])):\n",
    "    months.append(cab['Date_of_Travel'][i].month)\n",
    "    years.append(cab['Date_of_Travel'][i].year)\n",
    "cab['Month'] = months\n",
    "cab['Year'] = years"
   ],
   "metadata": {
    "collapsed": false,
    "pycharm": {
     "name": "#%%\n"
    }
   }
  },
  {
   "cell_type": "code",
   "execution_count": 20,
   "outputs": [
    {
     "data": {
      "text/plain": "   Transaction_ID   Company        City  KM_Travelled  Price_Charged  \\\n0        10000011  Pink Cab  ATLANTA GA         30.45         370.95   \n1        10000012  Pink Cab  ATLANTA GA         28.62         358.52   \n2        10000013  Pink Cab  ATLANTA GA          9.04         125.20   \n3        10000014  Pink Cab  ATLANTA GA         33.17         377.40   \n4        10000015  Pink Cab  ATLANTA GA          8.73         114.62   \n\n   Cost_of_Trip  Month  Year  \n0       313.635      1  2016  \n1       334.854      1  2016  \n2        97.632      1  2016  \n3       351.602      1  2016  \n4        97.776      1  2016  ",
      "text/html": "<div>\n<style scoped>\n    .dataframe tbody tr th:only-of-type {\n        vertical-align: middle;\n    }\n\n    .dataframe tbody tr th {\n        vertical-align: top;\n    }\n\n    .dataframe thead th {\n        text-align: right;\n    }\n</style>\n<table border=\"1\" class=\"dataframe\">\n  <thead>\n    <tr style=\"text-align: right;\">\n      <th></th>\n      <th>Transaction_ID</th>\n      <th>Company</th>\n      <th>City</th>\n      <th>KM_Travelled</th>\n      <th>Price_Charged</th>\n      <th>Cost_of_Trip</th>\n      <th>Month</th>\n      <th>Year</th>\n    </tr>\n  </thead>\n  <tbody>\n    <tr>\n      <th>0</th>\n      <td>10000011</td>\n      <td>Pink Cab</td>\n      <td>ATLANTA GA</td>\n      <td>30.45</td>\n      <td>370.95</td>\n      <td>313.635</td>\n      <td>1</td>\n      <td>2016</td>\n    </tr>\n    <tr>\n      <th>1</th>\n      <td>10000012</td>\n      <td>Pink Cab</td>\n      <td>ATLANTA GA</td>\n      <td>28.62</td>\n      <td>358.52</td>\n      <td>334.854</td>\n      <td>1</td>\n      <td>2016</td>\n    </tr>\n    <tr>\n      <th>2</th>\n      <td>10000013</td>\n      <td>Pink Cab</td>\n      <td>ATLANTA GA</td>\n      <td>9.04</td>\n      <td>125.20</td>\n      <td>97.632</td>\n      <td>1</td>\n      <td>2016</td>\n    </tr>\n    <tr>\n      <th>3</th>\n      <td>10000014</td>\n      <td>Pink Cab</td>\n      <td>ATLANTA GA</td>\n      <td>33.17</td>\n      <td>377.40</td>\n      <td>351.602</td>\n      <td>1</td>\n      <td>2016</td>\n    </tr>\n    <tr>\n      <th>4</th>\n      <td>10000015</td>\n      <td>Pink Cab</td>\n      <td>ATLANTA GA</td>\n      <td>8.73</td>\n      <td>114.62</td>\n      <td>97.776</td>\n      <td>1</td>\n      <td>2016</td>\n    </tr>\n  </tbody>\n</table>\n</div>"
     },
     "execution_count": 20,
     "metadata": {},
     "output_type": "execute_result"
    }
   ],
   "source": [
    "cab = cab.drop(['Date_of_Travel'], axis=1)\n",
    "cab.head()"
   ],
   "metadata": {
    "collapsed": false,
    "pycharm": {
     "name": "#%%\n"
    }
   }
  },
  {
   "cell_type": "code",
   "execution_count": 21,
   "outputs": [
    {
     "data": {
      "text/plain": "Month\n1     23174\n2     18307\n3     21646\n4     21434\n5     23701\n6     24713\n7     27676\n8     31323\n9     36859\n10    40852\n11    42700\n12    47007\nName: Transaction_ID, dtype: int64"
     },
     "execution_count": 21,
     "metadata": {},
     "output_type": "execute_result"
    }
   ],
   "source": [
    "plot2 = cab.groupby(['Month']).Transaction_ID.count()\n",
    "plot2"
   ],
   "metadata": {
    "collapsed": false,
    "pycharm": {
     "name": "#%%\n"
    }
   }
  },
  {
   "cell_type": "code",
   "execution_count": 22,
   "outputs": [
    {
     "data": {
      "text/plain": "<Figure size 1008x432 with 1 Axes>",
      "image/png": "[encoded data removed]"
     },
     "metadata": {
      "needs_background": "light"
     },
     "output_type": "display_data"
    }
   ],
   "source": [
    "plt.figure(figsize=(14,6))\n",
    "sns.barplot(x=plot2.index,y=plot2.values)\n",
    "plt.title('Travel frequency by date')\n",
    "plt.show()\n"
   ],
   "metadata": {
    "collapsed": false,
    "pycharm": {
     "name": "#%%\n"
    }
   }
  }
 ],
 "metadata": {
  "kernelspec": {
   "display_name": "Python 3",
   "language": "python",
   "name": "python3"
  },
  "language_info": {
   "codemirror_mode": {
    "name": "ipython",
    "version": 2
   },
   "file_extension": ".py",
   "mimetype": "text/x-python",
   "name": "python",
   "nbconvert_exporter": "python",
   "pygments_lexer": "ipython2",
   "version": "2.7.6"
  }
 },
 "nbformat": 4,
 "nbformat_minor": 0
}