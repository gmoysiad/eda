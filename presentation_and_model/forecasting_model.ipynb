{
 "cells": [
  {
   "cell_type": "code",
   "execution_count": 2,
   "metadata": {
    "collapsed": true
   },
   "outputs": [],
   "source": [
    "import pandas as pd\n",
    "import numpy as np\n",
    "from sklearn.model_selection import train_test_split\n",
    "from sklearn.linear_model import LinearRegression\n",
    "from sklearn.metrics import mean_squared_error\n",
    "from sklearn.svm import LinearSVR\n",
    "from sklearn.tree import DecisionTreeRegressor\n",
    "from sklearn.ensemble import RandomForestRegressor\n",
    "\n",
    "import warnings\n",
    "warnings.filterwarnings(\"ignore\")"
   ]
  },
  {
   "cell_type": "markdown",
   "source": [
    "Reading the datasets"
   ],
   "metadata": {
    "collapsed": false
   }
  },
  {
   "cell_type": "code",
   "execution_count": 3,
   "outputs": [],
   "source": [
    "cab_data = pd.read_csv('../data/Cab_Data.csv')\n",
    "customers_data = pd.read_csv('../data/Customer_ID.csv')\n",
    "transactions_data = pd.read_csv('../data/Transaction_ID.csv')\n",
    "cities_data = pd.read_csv('../data/City.csv')"
   ],
   "metadata": {
    "collapsed": false,
    "pycharm": {
     "name": "#%%\n"
    }
   }
  },
  {
   "cell_type": "code",
   "execution_count": 4,
   "outputs": [],
   "source": [
    "# replace spaces with underscore\n",
    "for col in cab_data.columns:\n",
    "    if ' ' in col:\n",
    "        cab_data = cab_data.rename(columns={col:col.replace(' ', '_')})\n",
    "for col in customers_data.columns:\n",
    "    if ' ' in col:\n",
    "        customers_data = customers_data.rename(columns={col:col.replace(' ', '_')})\n",
    "for col in transactions_data.columns:\n",
    "    if ' ' in col:\n",
    "        transactions_data = transactions_data.rename(columns={col:col.replace(' ', '_')})\n",
    "\n",
    "# lowercase all columns\n",
    "cab_data.columns = map(str.lower, cab_data.columns)\n",
    "customers_data.columns = map(str.lower, customers_data.columns)\n",
    "transactions_data.columns = map(str.lower, transactions_data.columns)\n",
    "cities_data.columns = map(str.lower, cities_data.columns)\n",
    "\n",
    "# renaming income per month\n",
    "customers_data = customers_data.rename(columns={'income_(usd/month)':'income'})"
   ],
   "metadata": {
    "collapsed": false,
    "pycharm": {
     "name": "#%%\n"
    }
   }
  },
  {
   "cell_type": "code",
   "execution_count": 5,
   "outputs": [
    {
     "data": {
      "text/plain": "   transaction_id   company        city  km_travelled  price_charged  \\\n0        10000011  Pink Cab  ATLANTA GA         30.45         370.95   \n1        10000012  Pink Cab  ATLANTA GA         28.62         358.52   \n2        10000013  Pink Cab  ATLANTA GA          9.04         125.20   \n3        10000014  Pink Cab  ATLANTA GA         33.17         377.40   \n4        10000015  Pink Cab  ATLANTA GA          8.73         114.62   \n\n   cost_of_trip  month  year  \n0       313.635      1  2016  \n1       334.854      1  2016  \n2        97.632      1  2016  \n3       351.602      1  2016  \n4        97.776      1  2016  ",
      "text/html": "<div>\n<style scoped>\n    .dataframe tbody tr th:only-of-type {\n        vertical-align: middle;\n    }\n\n    .dataframe tbody tr th {\n        vertical-align: top;\n    }\n\n    .dataframe thead th {\n        text-align: right;\n    }\n</style>\n<table border=\"1\" class=\"dataframe\">\n  <thead>\n    <tr style=\"text-align: right;\">\n      <th></th>\n      <th>transaction_id</th>\n      <th>company</th>\n      <th>city</th>\n      <th>km_travelled</th>\n      <th>price_charged</th>\n      <th>cost_of_trip</th>\n      <th>month</th>\n      <th>year</th>\n    </tr>\n  </thead>\n  <tbody>\n    <tr>\n      <th>0</th>\n      <td>10000011</td>\n      <td>Pink Cab</td>\n      <td>ATLANTA GA</td>\n      <td>30.45</td>\n      <td>370.95</td>\n      <td>313.635</td>\n      <td>1</td>\n      <td>2016</td>\n    </tr>\n    <tr>\n      <th>1</th>\n      <td>10000012</td>\n      <td>Pink Cab</td>\n      <td>ATLANTA GA</td>\n      <td>28.62</td>\n      <td>358.52</td>\n      <td>334.854</td>\n      <td>1</td>\n      <td>2016</td>\n    </tr>\n    <tr>\n      <th>2</th>\n      <td>10000013</td>\n      <td>Pink Cab</td>\n      <td>ATLANTA GA</td>\n      <td>9.04</td>\n      <td>125.20</td>\n      <td>97.632</td>\n      <td>1</td>\n      <td>2016</td>\n    </tr>\n    <tr>\n      <th>3</th>\n      <td>10000014</td>\n      <td>Pink Cab</td>\n      <td>ATLANTA GA</td>\n      <td>33.17</td>\n      <td>377.40</td>\n      <td>351.602</td>\n      <td>1</td>\n      <td>2016</td>\n    </tr>\n    <tr>\n      <th>4</th>\n      <td>10000015</td>\n      <td>Pink Cab</td>\n      <td>ATLANTA GA</td>\n      <td>8.73</td>\n      <td>114.62</td>\n      <td>97.776</td>\n      <td>1</td>\n      <td>2016</td>\n    </tr>\n  </tbody>\n</table>\n</div>"
     },
     "execution_count": 5,
     "metadata": {},
     "output_type": "execute_result"
    }
   ],
   "source": [
    "cab_data['date_of_travel'] = pd.to_datetime(cab_data['date_of_travel'], format='%d-%m-%Y')\n",
    "months = []\n",
    "years =[]\n",
    "for i in range(len(cab_data['date_of_travel'])):\n",
    "    months.append(cab_data['date_of_travel'][i].month)\n",
    "    years.append(cab_data['date_of_travel'][i].year)\n",
    "\n",
    "cab_data['month'] = months\n",
    "cab_data['year'] = years\n",
    "\n",
    "cab_data = cab_data.drop(['date_of_travel'], axis=1)\n",
    "cab_data.head()"
   ],
   "metadata": {
    "collapsed": false,
    "pycharm": {
     "name": "#%%\n"
    }
   }
  },
  {
   "cell_type": "code",
   "execution_count": 6,
   "outputs": [
    {
     "data": {
      "text/plain": "                                        company  km_travelled  price_charged  \\\ntransaction_id customer_id city                                                \n10000011       29290       ATLANTA GA  Pink Cab         30.45         370.95   \n10000012       27703       ATLANTA GA  Pink Cab         28.62         358.52   \n10000013       28712       ATLANTA GA  Pink Cab          9.04         125.20   \n10000014       28020       ATLANTA GA  Pink Cab         33.17         377.40   \n10000015       27182       ATLANTA GA  Pink Cab          8.73         114.62   \n\n                                       cost_of_trip  month  year payment_mode  \\\ntransaction_id customer_id city                                                 \n10000011       29290       ATLANTA GA       313.635      1  2016         Card   \n10000012       27703       ATLANTA GA       334.854      1  2016         Card   \n10000013       28712       ATLANTA GA        97.632      1  2016         Cash   \n10000014       28020       ATLANTA GA       351.602      1  2016         Cash   \n10000015       27182       ATLANTA GA        97.776      1  2016         Card   \n\n                                      gender  age  income population     users  \ntransaction_id customer_id city                                                 \n10000011       29290       ATLANTA GA   Male   28   10813   814,885    24,701   \n10000012       27703       ATLANTA GA   Male   27    9237   814,885    24,701   \n10000013       28712       ATLANTA GA   Male   53   11242   814,885    24,701   \n10000014       28020       ATLANTA GA   Male   23   23327   814,885    24,701   \n10000015       27182       ATLANTA GA   Male   33    8536   814,885    24,701   ",
      "text/html": "<div>\n<style scoped>\n    .dataframe tbody tr th:only-of-type {\n        vertical-align: middle;\n    }\n\n    .dataframe tbody tr th {\n        vertical-align: top;\n    }\n\n    .dataframe thead th {\n        text-align: right;\n    }\n</style>\n<table border=\"1\" class=\"dataframe\">\n  <thead>\n    <tr style=\"text-align: right;\">\n      <th></th>\n      <th></th>\n      <th></th>\n      <th>company</th>\n      <th>km_travelled</th>\n      <th>price_charged</th>\n      <th>cost_of_trip</th>\n      <th>month</th>\n      <th>year</th>\n      <th>payment_mode</th>\n      <th>gender</th>\n      <th>age</th>\n      <th>income</th>\n      <th>population</th>\n      <th>users</th>\n    </tr>\n    <tr>\n      <th>transaction_id</th>\n      <th>customer_id</th>\n      <th>city</th>\n      <th></th>\n      <th></th>\n      <th></th>\n      <th></th>\n      <th></th>\n      <th></th>\n      <th></th>\n      <th></th>\n      <th></th>\n      <th></th>\n      <th></th>\n      <th></th>\n    </tr>\n  </thead>\n  <tbody>\n    <tr>\n      <th>10000011</th>\n      <th>29290</th>\n      <th>ATLANTA GA</th>\n      <td>Pink Cab</td>\n      <td>30.45</td>\n      <td>370.95</td>\n      <td>313.635</td>\n      <td>1</td>\n      <td>2016</td>\n      <td>Card</td>\n      <td>Male</td>\n      <td>28</td>\n      <td>10813</td>\n      <td>814,885</td>\n      <td>24,701</td>\n    </tr>\n    <tr>\n      <th>10000012</th>\n      <th>27703</th>\n      <th>ATLANTA GA</th>\n      <td>Pink Cab</td>\n      <td>28.62</td>\n      <td>358.52</td>\n      <td>334.854</td>\n      <td>1</td>\n      <td>2016</td>\n      <td>Card</td>\n      <td>Male</td>\n      <td>27</td>\n      <td>9237</td>\n      <td>814,885</td>\n      <td>24,701</td>\n    </tr>\n    <tr>\n      <th>10000013</th>\n      <th>28712</th>\n      <th>ATLANTA GA</th>\n      <td>Pink Cab</td>\n      <td>9.04</td>\n      <td>125.20</td>\n      <td>97.632</td>\n      <td>1</td>\n      <td>2016</td>\n      <td>Cash</td>\n      <td>Male</td>\n      <td>53</td>\n      <td>11242</td>\n      <td>814,885</td>\n      <td>24,701</td>\n    </tr>\n    <tr>\n      <th>10000014</th>\n      <th>28020</th>\n      <th>ATLANTA GA</th>\n      <td>Pink Cab</td>\n      <td>33.17</td>\n      <td>377.40</td>\n      <td>351.602</td>\n      <td>1</td>\n      <td>2016</td>\n      <td>Cash</td>\n      <td>Male</td>\n      <td>23</td>\n      <td>23327</td>\n      <td>814,885</td>\n      <td>24,701</td>\n    </tr>\n    <tr>\n      <th>10000015</th>\n      <th>27182</th>\n      <th>ATLANTA GA</th>\n      <td>Pink Cab</td>\n      <td>8.73</td>\n      <td>114.62</td>\n      <td>97.776</td>\n      <td>1</td>\n      <td>2016</td>\n      <td>Card</td>\n      <td>Male</td>\n      <td>33</td>\n      <td>8536</td>\n      <td>814,885</td>\n      <td>24,701</td>\n    </tr>\n  </tbody>\n</table>\n</div>"
     },
     "execution_count": 6,
     "metadata": {},
     "output_type": "execute_result"
    }
   ],
   "source": [
    "left = cab_data.set_index(['transaction_id'])\n",
    "right = transactions_data.set_index(['transaction_id'])\n",
    "data = left.join(right)\n",
    "\n",
    "left = data.set_index([data.index,'customer_id'])\n",
    "right = customers_data.set_index(['customer_id'])\n",
    "data = left.join(right)\n",
    "\n",
    "left = data.set_index([data.index,'city'])\n",
    "right = cities_data.set_index(['city'])\n",
    "data = left.join(right)\n",
    "data.head()"
   ],
   "metadata": {
    "collapsed": false,
    "pycharm": {
     "name": "#%%\n"
    }
   }
  },
  {
   "cell_type": "code",
   "execution_count": 7,
   "outputs": [],
   "source": [
    "pink = data[data['company']=='Pink Cab']\n",
    "yellow = data[data['company']=='Yellow Cab']"
   ],
   "metadata": {
    "collapsed": false,
    "pycharm": {
     "name": "#%%\n"
    }
   }
  },
  {
   "cell_type": "code",
   "execution_count": 8,
   "outputs": [],
   "source": [
    "pink = pink.drop(['company', 'payment_mode', 'gender', 'population', 'users'], axis=1)\n",
    "yellow = yellow.drop(['company', 'payment_mode', 'gender', 'population', 'users'], axis=1)"
   ],
   "metadata": {
    "collapsed": false,
    "pycharm": {
     "name": "#%%\n"
    }
   }
  },
  {
   "cell_type": "code",
   "source": [
    "pink_X = pink.drop(['price_charged'], axis=1)\n",
    "pink_y = pink['price_charged'].copy()\n",
    "\n",
    "yellow_X = yellow.drop(['price_charged'], axis=1)\n",
    "yellow_y = yellow['price_charged'].copy()"
   ],
   "metadata": {
    "collapsed": false,
    "pycharm": {
     "name": "#%%\n"
    }
   },
   "execution_count": 9,
   "outputs": []
  },
  {
   "cell_type": "markdown",
   "source": [
    "Testing LinearRegression model"
   ],
   "metadata": {
    "collapsed": false,
    "pycharm": {
     "name": "#%% md\n"
    }
   }
  },
  {
   "cell_type": "code",
   "execution_count": 10,
   "outputs": [],
   "source": [
    "# since we are going to use multiple models we are splitting them here for easier reading\n",
    "X_train_pink, X_test_pink, y_train_pink, y_test_pink = train_test_split(pink_X, pink_y, test_size=0.3)\n",
    "X_train_yellow, X_test_yellow, y_train_yellow, y_test_yellow = train_test_split(yellow_X, yellow_y, test_size=0.3)"
   ],
   "metadata": {
    "collapsed": false,
    "pycharm": {
     "name": "#%%\n"
    }
   }
  },
  {
   "cell_type": "code",
   "execution_count": 11,
   "outputs": [
    {
     "name": "stdout",
     "output_type": "stream",
     "text": [
      "Train score: 67.43173977284934\n",
      "Test score: 67.44773250560318\n",
      "The accuracy is:  86.417 %\n"
     ]
    }
   ],
   "source": [
    "lr_pink = LinearRegression().fit(X_train_pink, y_train_pink)\n",
    "\n",
    "lrp_train_score = lr_pink.predict(X_train_pink)\n",
    "lrp_train_score = np.sqrt(mean_squared_error(y_train_pink, lrp_train_score))\n",
    "print('Train score:', lrp_train_score)\n",
    "\n",
    "lrp_pred = lr_pink.predict(X_test_pink)\n",
    "lrp_pred = np.sqrt(mean_squared_error(y_test_pink, lrp_pred))\n",
    "print('Test score:', lrp_pred)\n",
    "\n",
    "lrp_accuracy = round(lr_pink.score(X_test_pink,y_test_pink), 5)\n",
    "print('The accuracy is: ', str(lrp_accuracy * 100), '%')"
   ],
   "metadata": {
    "collapsed": false,
    "pycharm": {
     "name": "#%%\n"
    }
   }
  },
  {
   "cell_type": "code",
   "execution_count": 12,
   "outputs": [
    {
     "name": "stdout",
     "output_type": "stream",
     "text": [
      "Train score: 224.00628670785088\n",
      "Test score: 145.6174173895393\n",
      "Accuracy:  74.366 %\n"
     ]
    }
   ],
   "source": [
    "lr_yellow = LinearRegression().fit(X_train_yellow, y_train_yellow)\n",
    "\n",
    "lry_train_score = lr_pink.predict(X_train_yellow)\n",
    "lry_train_score = np.sqrt(mean_squared_error(y_train_yellow, lry_train_score))\n",
    "print('Train score:', lry_train_score)\n",
    "\n",
    "lry_pred = lr_yellow.predict(X_test_yellow)\n",
    "lry_pred = np.sqrt(mean_squared_error(y_test_yellow, lry_pred))\n",
    "print('Test score:', lry_pred)\n",
    "\n",
    "lry_accuracy = round(lr_yellow.score(X_test_yellow,y_test_yellow), 5)\n",
    "print('Accuracy: ', str(lry_accuracy * 100), '%')"
   ],
   "metadata": {
    "collapsed": false,
    "pycharm": {
     "name": "#%%\n"
    }
   }
  },
  {
   "cell_type": "markdown",
   "source": [
    "Linear Support Vector Regressor"
   ],
   "metadata": {
    "collapsed": false,
    "pycharm": {
     "name": "#%% md\n"
    }
   }
  },
  {
   "cell_type": "code",
   "execution_count": 13,
   "outputs": [],
   "source": [
    "lsvr_pink = LinearSVR()\n",
    "lsvr_yellow = LinearSVR()"
   ],
   "metadata": {
    "collapsed": false,
    "pycharm": {
     "name": "#%%\n"
    }
   }
  },
  {
   "cell_type": "code",
   "execution_count": 14,
   "outputs": [
    {
     "name": "stdout",
     "output_type": "stream",
     "text": [
      "Train score: 77.48818187617546\n",
      "Test score: 67.44773250560318\n",
      "The accuracy is:  81.933 %\n"
     ]
    }
   ],
   "source": [
    "lsvr_pink.fit(X_train_pink, y_train_pink)\n",
    "\n",
    "lsvrp_train_score = lsvr_pink.predict(X_train_pink)\n",
    "lsvrp_train_score = np.sqrt(mean_squared_error(y_train_pink, lsvrp_train_score))\n",
    "print('Train score:', lsvrp_train_score)\n",
    "\n",
    "lsvrp_pred = lr_pink.predict(X_test_pink)\n",
    "lsvrp_pred = np.sqrt(mean_squared_error(y_test_pink, lsvrp_pred))\n",
    "print('Test score:', lsvrp_pred)\n",
    "\n",
    "lsvrp_accuracy = round(lsvr_pink.score(X_test_pink,y_test_pink), 5)\n",
    "print('The accuracy is: ', str(lsvrp_accuracy * 100), '%')"
   ],
   "metadata": {
    "collapsed": false,
    "pycharm": {
     "name": "#%%\n"
    }
   }
  },
  {
   "cell_type": "code",
   "execution_count": 15,
   "outputs": [
    {
     "name": "stdout",
     "output_type": "stream",
     "text": [
      "Train score: 213.620985897268\n",
      "Test score: 212.7401733898184\n",
      "Accuracy:  45.287 %\n"
     ]
    }
   ],
   "source": [
    "lsvr_yellow.fit(X_train_yellow, y_train_yellow)\n",
    "\n",
    "lsvry_train_score = lsvr_yellow.predict(X_train_yellow)\n",
    "lsvry_train_score = np.sqrt(mean_squared_error(y_train_yellow, lsvry_train_score))\n",
    "print('Train score:', lsvry_train_score)\n",
    "\n",
    "lsvry_pred = lsvr_yellow.predict(X_test_yellow)\n",
    "lsvry_pred = np.sqrt(mean_squared_error(y_test_yellow, lsvry_pred))\n",
    "print('Test score:', lsvry_pred)\n",
    "\n",
    "lsvry_accuracy = round(lsvr_yellow.score(X_test_yellow,y_test_yellow), 5)\n",
    "print('Accuracy: ', str(lsvry_accuracy * 100), '%')"
   ],
   "metadata": {
    "collapsed": false,
    "pycharm": {
     "name": "#%%\n"
    }
   }
  },
  {
   "cell_type": "markdown",
   "source": [
    "Dicision Tree Regression"
   ],
   "metadata": {
    "collapsed": false,
    "pycharm": {
     "name": "#%% md\n"
    }
   }
  },
  {
   "cell_type": "code",
   "execution_count": 16,
   "outputs": [],
   "source": [
    "tree_pink = DecisionTreeRegressor(max_depth=7)\n",
    "tree_yellow = DecisionTreeRegressor(max_depth=7)"
   ],
   "metadata": {
    "collapsed": false,
    "pycharm": {
     "name": "#%%\n"
    }
   }
  },
  {
   "cell_type": "code",
   "execution_count": 17,
   "outputs": [
    {
     "name": "stdout",
     "output_type": "stream",
     "text": [
      "Train score: 65.35036724865327\n",
      "Test score: 66.1554010345296\n",
      "Accuracy:  86.932 %\n"
     ]
    }
   ],
   "source": [
    "tree_pink.fit(X_train_pink, y_train_pink)\n",
    "\n",
    "tp_train_score = tree_pink.predict(X_train_pink)\n",
    "tp_train_score = np.sqrt(mean_squared_error(y_train_pink, tp_train_score))\n",
    "print('Train score:', tp_train_score)\n",
    "\n",
    "tp_pred = tree_pink.predict(X_test_pink)\n",
    "tp_pred = np.sqrt(mean_squared_error(y_test_pink, tp_pred))\n",
    "print('Test score:', tp_pred)\n",
    "\n",
    "tp_accuracy = round(tree_pink.score(X_test_pink,y_test_pink), 5)\n",
    "print('Accuracy: ', str(tp_accuracy * 100), '%')"
   ],
   "metadata": {
    "collapsed": false,
    "pycharm": {
     "name": "#%%\n"
    }
   }
  },
  {
   "cell_type": "code",
   "execution_count": 18,
   "outputs": [
    {
     "name": "stdout",
     "output_type": "stream",
     "text": [
      "Train score: 144.01895431969405\n",
      "Test score: 144.35705627046374\n",
      "Accuracy:  74.80799999999999 %\n"
     ]
    }
   ],
   "source": [
    "tree_yellow.fit(X_train_yellow, y_train_yellow)\n",
    "\n",
    "ty_train_score = tree_yellow.predict(X_train_yellow)\n",
    "ty_train_score = np.sqrt(mean_squared_error(y_train_yellow, ty_train_score))\n",
    "print('Train score:', ty_train_score)\n",
    "\n",
    "ty_pred = tree_yellow.predict(X_test_yellow)\n",
    "ty_pred = np.sqrt(mean_squared_error(y_test_yellow, ty_pred))\n",
    "print('Test score:', ty_pred)\n",
    "\n",
    "ty_accuracy = round(tree_yellow.score(X_test_yellow,y_test_yellow), 5)\n",
    "print('Accuracy: ', str(ty_accuracy * 100), '%')"
   ],
   "metadata": {
    "collapsed": false,
    "pycharm": {
     "name": "#%%\n"
    }
   }
  },
  {
   "cell_type": "markdown",
   "source": [
    "Random Forest Regressor"
   ],
   "metadata": {
    "collapsed": false,
    "pycharm": {
     "name": "#%% md\n"
    }
   }
  },
  {
   "cell_type": "code",
   "execution_count": 19,
   "outputs": [],
   "source": [
    "forest_pink = RandomForestRegressor()\n",
    "forest_yellow = RandomForestRegressor()"
   ],
   "metadata": {
    "collapsed": false,
    "pycharm": {
     "name": "#%%\n"
    }
   }
  },
  {
   "cell_type": "code",
   "execution_count": 20,
   "outputs": [
    {
     "name": "stdout",
     "output_type": "stream",
     "text": [
      "Train score: 25.27042867863134\n",
      "Test score: 67.62886323334298\n",
      "Accuracy:  86.344 %\n"
     ]
    }
   ],
   "source": [
    "forest_pink.fit(X_train_pink, y_train_pink)\n",
    "\n",
    "fp_train_score = forest_pink.predict(X_train_pink)\n",
    "fp_train_score = np.sqrt(mean_squared_error(y_train_pink, fp_train_score))\n",
    "print('Train score:', fp_train_score)\n",
    "\n",
    "fp_pred = forest_pink.predict(X_test_pink)\n",
    "fp_pred = np.sqrt(mean_squared_error(y_test_pink, fp_pred))\n",
    "print('Test score:', fp_pred)\n",
    "\n",
    "fp_accuracy = round(forest_pink.score(X_test_pink,y_test_pink), 5)\n",
    "print('Accuracy: ', str(fp_accuracy * 100), '%')"
   ],
   "metadata": {
    "collapsed": false,
    "pycharm": {
     "name": "#%%\n"
    }
   }
  },
  {
   "cell_type": "code",
   "execution_count": 21,
   "outputs": [
    {
     "name": "stdout",
     "output_type": "stream",
     "text": [
      "Train score: 55.428290216011455\n",
      "Test score: 148.25601980027753\n",
      "Accuracy:  73.429 %\n"
     ]
    }
   ],
   "source": [
    "forest_yellow.fit(X_train_yellow, y_train_yellow)\n",
    "\n",
    "fy_train_score = forest_yellow.predict(X_train_yellow)\n",
    "fy_train_score = np.sqrt(mean_squared_error(y_train_yellow, fy_train_score))\n",
    "print('Train score:', fy_train_score)\n",
    "\n",
    "fy_pred = forest_yellow.predict(X_test_yellow)\n",
    "fy_pred = np.sqrt(mean_squared_error(y_test_yellow, fy_pred))\n",
    "print('Test score:', fy_pred)\n",
    "\n",
    "fy_accuracy = round(forest_yellow.score(X_test_yellow,y_test_yellow), 5)\n",
    "print('Accuracy: ', str(fy_accuracy * 100), '%')"
   ],
   "metadata": {
    "collapsed": false,
    "pycharm": {
     "name": "#%%\n"
    }
   }
  },
  {
   "cell_type": "markdown",
   "source": [
    "Grouping scores together"
   ],
   "metadata": {
    "collapsed": false,
    "pycharm": {
     "name": "#%% md\n"
    }
   }
  },
  {
   "cell_type": "code",
   "execution_count": 22,
   "outputs": [],
   "source": [
    "lry = {'Train': round(lry_train_score, 2), 'Test': round(lry_pred, 2)}\n",
    "lsvry = {'Train': round(lsvry_train_score, 2), 'Test': round(lsvry_pred, 2)}\n",
    "ty = {'Train': round(ty_train_score, 2), 'Test': round(ty_pred, 2)}\n",
    "fy = {'Train': round(fy_train_score, 2), 'Test': round(fy_pred, 2)}\n",
    "\n",
    "lrp = {'Train': round(lrp_train_score, 2), 'Test': round(lrp_pred, 2)}\n",
    "lsvrp = {'Train': round(lsvrp_train_score, 2), 'Test': round(lsvrp_pred, 2)}\n",
    "tp = {'Train': round(tp_train_score, 2), 'Test': round(tp_pred, 2)}\n",
    "fp = {'Train': round(fp_train_score, 2), 'Test': round(fp_pred, 2)}\n"
   ],
   "metadata": {
    "collapsed": false,
    "pycharm": {
     "name": "#%%\n"
    }
   }
  },
  {
   "cell_type": "code",
   "execution_count": 23,
   "outputs": [
    {
     "data": {
      "text/plain": "                    Train    Test\nLinear Regression  224.01  145.62\nLinearSVR          213.62  212.74\nDecision Tree      144.02  144.36\nRandom Forrest      55.43  148.26",
      "text/html": "<div>\n<style scoped>\n    .dataframe tbody tr th:only-of-type {\n        vertical-align: middle;\n    }\n\n    .dataframe tbody tr th {\n        vertical-align: top;\n    }\n\n    .dataframe thead th {\n        text-align: right;\n    }\n</style>\n<table border=\"1\" class=\"dataframe\">\n  <thead>\n    <tr style=\"text-align: right;\">\n      <th></th>\n      <th>Train</th>\n      <th>Test</th>\n    </tr>\n  </thead>\n  <tbody>\n    <tr>\n      <th>Linear Regression</th>\n      <td>224.01</td>\n      <td>145.62</td>\n    </tr>\n    <tr>\n      <th>LinearSVR</th>\n      <td>213.62</td>\n      <td>212.74</td>\n    </tr>\n    <tr>\n      <th>Decision Tree</th>\n      <td>144.02</td>\n      <td>144.36</td>\n    </tr>\n    <tr>\n      <th>Random Forrest</th>\n      <td>55.43</td>\n      <td>148.26</td>\n    </tr>\n  </tbody>\n</table>\n</div>"
     },
     "execution_count": 23,
     "metadata": {},
     "output_type": "execute_result"
    }
   ],
   "source": [
    "index=['Linear Regression', 'LinearSVR', 'Decision Tree', 'Random Forrest']\n",
    "final_scores_yellow = pd.DataFrame([lry, lsvry, ty, fy], index=index)\n",
    "final_scores_yellow"
   ],
   "metadata": {
    "collapsed": false,
    "pycharm": {
     "name": "#%%\n"
    }
   }
  },
  {
   "cell_type": "code",
   "execution_count": 24,
   "outputs": [
    {
     "data": {
      "text/plain": "                   Train   Test\nLinear Regression  67.43  67.45\nLinearSVR          77.49  67.45\nDecision Tree      65.35  66.16\nRandom Forrest     25.27  67.63",
      "text/html": "<div>\n<style scoped>\n    .dataframe tbody tr th:only-of-type {\n        vertical-align: middle;\n    }\n\n    .dataframe tbody tr th {\n        vertical-align: top;\n    }\n\n    .dataframe thead th {\n        text-align: right;\n    }\n</style>\n<table border=\"1\" class=\"dataframe\">\n  <thead>\n    <tr style=\"text-align: right;\">\n      <th></th>\n      <th>Train</th>\n      <th>Test</th>\n    </tr>\n  </thead>\n  <tbody>\n    <tr>\n      <th>Linear Regression</th>\n      <td>67.43</td>\n      <td>67.45</td>\n    </tr>\n    <tr>\n      <th>LinearSVR</th>\n      <td>77.49</td>\n      <td>67.45</td>\n    </tr>\n    <tr>\n      <th>Decision Tree</th>\n      <td>65.35</td>\n      <td>66.16</td>\n    </tr>\n    <tr>\n      <th>Random Forrest</th>\n      <td>25.27</td>\n      <td>67.63</td>\n    </tr>\n  </tbody>\n</table>\n</div>"
     },
     "execution_count": 24,
     "metadata": {},
     "output_type": "execute_result"
    }
   ],
   "source": [
    "index=['Linear Regression', 'LinearSVR', 'Decision Tree', 'Random Forrest']\n",
    "final_scores_pink = pd.DataFrame([lrp, lsvrp, tp, fp], index=index)\n",
    "final_scores_pink"
   ],
   "metadata": {
    "collapsed": false,
    "pycharm": {
     "name": "#%%\n"
    }
   }
  },
  {
   "cell_type": "code",
   "execution_count": 25,
   "outputs": [
    {
     "data": {
      "text/plain": "                   Accuracy\nLinear Regression    74.366\nLinearSVR            45.287\nDecision Tree        74.808\nRandom Forrest       73.429",
      "text/html": "<div>\n<style scoped>\n    .dataframe tbody tr th:only-of-type {\n        vertical-align: middle;\n    }\n\n    .dataframe tbody tr th {\n        vertical-align: top;\n    }\n\n    .dataframe thead th {\n        text-align: right;\n    }\n</style>\n<table border=\"1\" class=\"dataframe\">\n  <thead>\n    <tr style=\"text-align: right;\">\n      <th></th>\n      <th>Accuracy</th>\n    </tr>\n  </thead>\n  <tbody>\n    <tr>\n      <th>Linear Regression</th>\n      <td>74.366</td>\n    </tr>\n    <tr>\n      <th>LinearSVR</th>\n      <td>45.287</td>\n    </tr>\n    <tr>\n      <th>Decision Tree</th>\n      <td>74.808</td>\n    </tr>\n    <tr>\n      <th>Random Forrest</th>\n      <td>73.429</td>\n    </tr>\n  </tbody>\n</table>\n</div>"
     },
     "execution_count": 25,
     "metadata": {},
     "output_type": "execute_result"
    }
   ],
   "source": [
    "index=['Linear Regression', 'LinearSVR', 'Decision Tree', 'Random Forrest']\n",
    "results = pd.DataFrame([lry_accuracy*100, lsvry_accuracy*100, ty_accuracy*100, fy_accuracy*100], index=index, columns=['Accuracy'])\n",
    "results"
   ],
   "metadata": {
    "collapsed": false,
    "pycharm": {
     "name": "#%%\n"
    }
   }
  },
  {
   "cell_type": "code",
   "execution_count": 26,
   "outputs": [
    {
     "data": {
      "text/plain": "                   Accuracy\nLinear Regression    86.417\nLinearSVR            81.933\nDecision Tree        86.932\nRandom Forrest       86.344",
      "text/html": "<div>\n<style scoped>\n    .dataframe tbody tr th:only-of-type {\n        vertical-align: middle;\n    }\n\n    .dataframe tbody tr th {\n        vertical-align: top;\n    }\n\n    .dataframe thead th {\n        text-align: right;\n    }\n</style>\n<table border=\"1\" class=\"dataframe\">\n  <thead>\n    <tr style=\"text-align: right;\">\n      <th></th>\n      <th>Accuracy</th>\n    </tr>\n  </thead>\n  <tbody>\n    <tr>\n      <th>Linear Regression</th>\n      <td>86.417</td>\n    </tr>\n    <tr>\n      <th>LinearSVR</th>\n      <td>81.933</td>\n    </tr>\n    <tr>\n      <th>Decision Tree</th>\n      <td>86.932</td>\n    </tr>\n    <tr>\n      <th>Random Forrest</th>\n      <td>86.344</td>\n    </tr>\n  </tbody>\n</table>\n</div>"
     },
     "execution_count": 26,
     "metadata": {},
     "output_type": "execute_result"
    }
   ],
   "source": [
    "index=['Linear Regression', 'LinearSVR', 'Decision Tree', 'Random Forrest']\n",
    "results = pd.DataFrame([lrp_accuracy*100, lsvrp_accuracy*100, tp_accuracy*100, fp_accuracy*100], index=index, columns=['Accuracy'])\n",
    "results"
   ],
   "metadata": {
    "collapsed": false,
    "pycharm": {
     "name": "#%%\n"
    }
   }
  }
 ],
 "metadata": {
  "kernelspec": {
   "display_name": "Python 3",
   "language": "python",
   "name": "python3"
  },
  "language_info": {
   "codemirror_mode": {
    "name": "ipython",
    "version": 2
   },
   "file_extension": ".py",
   "mimetype": "text/x-python",
   "name": "python",
   "nbconvert_exporter": "python",
   "pygments_lexer": "ipython2",
   "version": "2.7.6"
  }
 },
 "nbformat": 4,
 "nbformat_minor": 0
}