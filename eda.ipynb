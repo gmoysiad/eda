{
 "cells": [
  {
   "cell_type": "code",
   "execution_count": 1,
   "metadata": {
    "collapsed": true
   },
   "outputs": [],
   "source": [
    "import pandas as pd\n"
   ]
  },
  {
   "cell_type": "code",
   "execution_count": 5,
   "outputs": [],
   "source": [
    "customers = pd.read_csv('data/customer_id.csv')\n",
    "transactions = pd.read_csv('data/transaction_id.csv')\n",
    "\n",
    "customers = customers.rename(columns={'Customer ID': 'customer_id', 'Gender': 'gender', 'Age': 'age',\n",
    "                                      'Income (USD/Month)': 'income'})\n",
    "transactions = transactions.rename(columns={'Transaction ID': 'transaction_id', 'Customer ID': 'customer_id',\n",
    "                                            'Payment_Mode': 'payment_mode'})\n"
   ],
   "metadata": {
    "collapsed": false,
    "pycharm": {
     "name": "#%%\n"
    }
   }
  },
  {
   "cell_type": "code",
   "execution_count": 6,
   "outputs": [],
   "source": [
    "df = customers.merge(transactions, on='customer_id', how='outer')\n"
   ],
   "metadata": {
    "collapsed": false,
    "pycharm": {
     "name": "#%%\n"
    }
   }
  },
  {
   "cell_type": "code",
   "execution_count": 7,
   "outputs": [
    {
     "data": {
      "text/plain": "   customer_id gender  age  income  transaction_id payment_mode\n0        29290   Male   28   10813        10000011         Card\n1        29290   Male   28   10813        10351127         Cash\n2        29290   Male   28   10813        10412921         Card\n3        27703   Male   27    9237        10000012         Card\n4        27703   Male   27    9237        10320494         Card",
      "text/html": "<div>\n<style scoped>\n    .dataframe tbody tr th:only-of-type {\n        vertical-align: middle;\n    }\n\n    .dataframe tbody tr th {\n        vertical-align: top;\n    }\n\n    .dataframe thead th {\n        text-align: right;\n    }\n</style>\n<table border=\"1\" class=\"dataframe\">\n  <thead>\n    <tr style=\"text-align: right;\">\n      <th></th>\n      <th>customer_id</th>\n      <th>gender</th>\n      <th>age</th>\n      <th>income</th>\n      <th>transaction_id</th>\n      <th>payment_mode</th>\n    </tr>\n  </thead>\n  <tbody>\n    <tr>\n      <th>0</th>\n      <td>29290</td>\n      <td>Male</td>\n      <td>28</td>\n      <td>10813</td>\n      <td>10000011</td>\n      <td>Card</td>\n    </tr>\n    <tr>\n      <th>1</th>\n      <td>29290</td>\n      <td>Male</td>\n      <td>28</td>\n      <td>10813</td>\n      <td>10351127</td>\n      <td>Cash</td>\n    </tr>\n    <tr>\n      <th>2</th>\n      <td>29290</td>\n      <td>Male</td>\n      <td>28</td>\n      <td>10813</td>\n      <td>10412921</td>\n      <td>Card</td>\n    </tr>\n    <tr>\n      <th>3</th>\n      <td>27703</td>\n      <td>Male</td>\n      <td>27</td>\n      <td>9237</td>\n      <td>10000012</td>\n      <td>Card</td>\n    </tr>\n    <tr>\n      <th>4</th>\n      <td>27703</td>\n      <td>Male</td>\n      <td>27</td>\n      <td>9237</td>\n      <td>10320494</td>\n      <td>Card</td>\n    </tr>\n  </tbody>\n</table>\n</div>"
     },
     "execution_count": 7,
     "metadata": {},
     "output_type": "execute_result"
    }
   ],
   "source": [
    "df.head()"
   ],
   "metadata": {
    "collapsed": false,
    "pycharm": {
     "name": "#%%\n"
    }
   }
  }
 ],
 "metadata": {
  "kernelspec": {
   "display_name": "Python 3",
   "language": "python",
   "name": "python3"
  },
  "language_info": {
   "codemirror_mode": {
    "name": "ipython",
    "version": 2
   },
   "file_extension": ".py",
   "mimetype": "text/x-python",
   "name": "python",
   "nbconvert_exporter": "python",
   "pygments_lexer": "ipython2",
   "version": "2.7.6"
  }
 },
 "nbformat": 4,
 "nbformat_minor": 0
}