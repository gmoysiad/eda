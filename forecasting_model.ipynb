{
 "cells": [
  {
   "cell_type": "code",
   "execution_count": 1,
   "metadata": {
    "collapsed": true
   },
   "outputs": [],
   "source": [
    "import pandas as pd\n",
    "import numpy as np\n",
    "from sklearn.model_selection import train_test_split\n",
    "from sklearn.linear_model import LinearRegression\n",
    "from sklearn.metrics import mean_squared_error, accuracy_score, classification_report"
   ]
  },
  {
   "cell_type": "markdown",
   "source": [
    "Reading the datasets"
   ],
   "metadata": {
    "collapsed": false
   }
  },
  {
   "cell_type": "code",
   "execution_count": 2,
   "outputs": [],
   "source": [
    "cab_data = pd.read_csv('data/Cab_Data.csv')\n",
    "customers_data = pd.read_csv('data/Customer_ID.csv')\n",
    "transactions_data = pd.read_csv('data/Transaction_ID.csv')\n",
    "cities_data = pd.read_csv('data/City.csv')"
   ],
   "metadata": {
    "collapsed": false,
    "pycharm": {
     "name": "#%%\n"
    }
   }
  },
  {
   "cell_type": "code",
   "execution_count": 3,
   "outputs": [],
   "source": [
    "# replace spaces with underscore\n",
    "for col in cab_data.columns:\n",
    "    if ' ' in col:\n",
    "        cab_data = cab_data.rename(columns={col:col.replace(' ', '_')})\n",
    "for col in customers_data.columns:\n",
    "    if ' ' in col:\n",
    "        customers_data = customers_data.rename(columns={col:col.replace(' ', '_')})\n",
    "for col in transactions_data.columns:\n",
    "    if ' ' in col:\n",
    "        transactions_data = transactions_data.rename(columns={col:col.replace(' ', '_')})\n",
    "\n",
    "# lowercase all columns\n",
    "cab_data.columns = map(str.lower, cab_data.columns)\n",
    "customers_data.columns = map(str.lower, customers_data.columns)\n",
    "transactions_data.columns = map(str.lower, transactions_data.columns)\n",
    "cities_data.columns = map(str.lower, cities_data.columns)\n",
    "\n",
    "# renaming income per month\n",
    "customers_data = customers_data.rename(columns={'income_(usd/month)':'income'})"
   ],
   "metadata": {
    "collapsed": false,
    "pycharm": {
     "name": "#%%\n"
    }
   }
  },
  {
   "cell_type": "code",
   "execution_count": 4,
   "outputs": [
    {
     "data": {
      "text/plain": "   transaction_id   company        city  km_travelled  price_charged  \\\n0        10000011  Pink Cab  ATLANTA GA         30.45         370.95   \n1        10000012  Pink Cab  ATLANTA GA         28.62         358.52   \n2        10000013  Pink Cab  ATLANTA GA          9.04         125.20   \n3        10000014  Pink Cab  ATLANTA GA         33.17         377.40   \n4        10000015  Pink Cab  ATLANTA GA          8.73         114.62   \n\n   cost_of_trip  month  year  \n0       313.635      1  2016  \n1       334.854      1  2016  \n2        97.632      1  2016  \n3       351.602      1  2016  \n4        97.776      1  2016  ",
      "text/html": "<div>\n<style scoped>\n    .dataframe tbody tr th:only-of-type {\n        vertical-align: middle;\n    }\n\n    .dataframe tbody tr th {\n        vertical-align: top;\n    }\n\n    .dataframe thead th {\n        text-align: right;\n    }\n</style>\n<table border=\"1\" class=\"dataframe\">\n  <thead>\n    <tr style=\"text-align: right;\">\n      <th></th>\n      <th>transaction_id</th>\n      <th>company</th>\n      <th>city</th>\n      <th>km_travelled</th>\n      <th>price_charged</th>\n      <th>cost_of_trip</th>\n      <th>month</th>\n      <th>year</th>\n    </tr>\n  </thead>\n  <tbody>\n    <tr>\n      <th>0</th>\n      <td>10000011</td>\n      <td>Pink Cab</td>\n      <td>ATLANTA GA</td>\n      <td>30.45</td>\n      <td>370.95</td>\n      <td>313.635</td>\n      <td>1</td>\n      <td>2016</td>\n    </tr>\n    <tr>\n      <th>1</th>\n      <td>10000012</td>\n      <td>Pink Cab</td>\n      <td>ATLANTA GA</td>\n      <td>28.62</td>\n      <td>358.52</td>\n      <td>334.854</td>\n      <td>1</td>\n      <td>2016</td>\n    </tr>\n    <tr>\n      <th>2</th>\n      <td>10000013</td>\n      <td>Pink Cab</td>\n      <td>ATLANTA GA</td>\n      <td>9.04</td>\n      <td>125.20</td>\n      <td>97.632</td>\n      <td>1</td>\n      <td>2016</td>\n    </tr>\n    <tr>\n      <th>3</th>\n      <td>10000014</td>\n      <td>Pink Cab</td>\n      <td>ATLANTA GA</td>\n      <td>33.17</td>\n      <td>377.40</td>\n      <td>351.602</td>\n      <td>1</td>\n      <td>2016</td>\n    </tr>\n    <tr>\n      <th>4</th>\n      <td>10000015</td>\n      <td>Pink Cab</td>\n      <td>ATLANTA GA</td>\n      <td>8.73</td>\n      <td>114.62</td>\n      <td>97.776</td>\n      <td>1</td>\n      <td>2016</td>\n    </tr>\n  </tbody>\n</table>\n</div>"
     },
     "execution_count": 4,
     "metadata": {},
     "output_type": "execute_result"
    }
   ],
   "source": [
    "cab_data['date_of_travel'] = pd.to_datetime(cab_data['date_of_travel'], format='%d-%m-%Y')\n",
    "months = []\n",
    "years =[]\n",
    "for i in range(len(cab_data['date_of_travel'])):\n",
    "    months.append(cab_data['date_of_travel'][i].month)\n",
    "    years.append(cab_data['date_of_travel'][i].year)\n",
    "\n",
    "cab_data['month'] = months\n",
    "cab_data['year'] = years\n",
    "\n",
    "cab_data = cab_data.drop(['date_of_travel'], axis=1)\n",
    "cab_data.head()"
   ],
   "metadata": {
    "collapsed": false,
    "pycharm": {
     "name": "#%%\n"
    }
   }
  },
  {
   "cell_type": "code",
   "execution_count": 5,
   "outputs": [
    {
     "data": {
      "text/plain": "                                        company  km_travelled  price_charged  \\\ntransaction_id customer_id city                                                \n10000011       29290       ATLANTA GA  Pink Cab         30.45         370.95   \n10000012       27703       ATLANTA GA  Pink Cab         28.62         358.52   \n10000013       28712       ATLANTA GA  Pink Cab          9.04         125.20   \n10000014       28020       ATLANTA GA  Pink Cab         33.17         377.40   \n10000015       27182       ATLANTA GA  Pink Cab          8.73         114.62   \n\n                                       cost_of_trip  month  year payment_mode  \\\ntransaction_id customer_id city                                                 \n10000011       29290       ATLANTA GA       313.635      1  2016         Card   \n10000012       27703       ATLANTA GA       334.854      1  2016         Card   \n10000013       28712       ATLANTA GA        97.632      1  2016         Cash   \n10000014       28020       ATLANTA GA       351.602      1  2016         Cash   \n10000015       27182       ATLANTA GA        97.776      1  2016         Card   \n\n                                      gender  age  income population     users  \ntransaction_id customer_id city                                                 \n10000011       29290       ATLANTA GA   Male   28   10813   814,885    24,701   \n10000012       27703       ATLANTA GA   Male   27    9237   814,885    24,701   \n10000013       28712       ATLANTA GA   Male   53   11242   814,885    24,701   \n10000014       28020       ATLANTA GA   Male   23   23327   814,885    24,701   \n10000015       27182       ATLANTA GA   Male   33    8536   814,885    24,701   ",
      "text/html": "<div>\n<style scoped>\n    .dataframe tbody tr th:only-of-type {\n        vertical-align: middle;\n    }\n\n    .dataframe tbody tr th {\n        vertical-align: top;\n    }\n\n    .dataframe thead th {\n        text-align: right;\n    }\n</style>\n<table border=\"1\" class=\"dataframe\">\n  <thead>\n    <tr style=\"text-align: right;\">\n      <th></th>\n      <th></th>\n      <th></th>\n      <th>company</th>\n      <th>km_travelled</th>\n      <th>price_charged</th>\n      <th>cost_of_trip</th>\n      <th>month</th>\n      <th>year</th>\n      <th>payment_mode</th>\n      <th>gender</th>\n      <th>age</th>\n      <th>income</th>\n      <th>population</th>\n      <th>users</th>\n    </tr>\n    <tr>\n      <th>transaction_id</th>\n      <th>customer_id</th>\n      <th>city</th>\n      <th></th>\n      <th></th>\n      <th></th>\n      <th></th>\n      <th></th>\n      <th></th>\n      <th></th>\n      <th></th>\n      <th></th>\n      <th></th>\n      <th></th>\n      <th></th>\n    </tr>\n  </thead>\n  <tbody>\n    <tr>\n      <th>10000011</th>\n      <th>29290</th>\n      <th>ATLANTA GA</th>\n      <td>Pink Cab</td>\n      <td>30.45</td>\n      <td>370.95</td>\n      <td>313.635</td>\n      <td>1</td>\n      <td>2016</td>\n      <td>Card</td>\n      <td>Male</td>\n      <td>28</td>\n      <td>10813</td>\n      <td>814,885</td>\n      <td>24,701</td>\n    </tr>\n    <tr>\n      <th>10000012</th>\n      <th>27703</th>\n      <th>ATLANTA GA</th>\n      <td>Pink Cab</td>\n      <td>28.62</td>\n      <td>358.52</td>\n      <td>334.854</td>\n      <td>1</td>\n      <td>2016</td>\n      <td>Card</td>\n      <td>Male</td>\n      <td>27</td>\n      <td>9237</td>\n      <td>814,885</td>\n      <td>24,701</td>\n    </tr>\n    <tr>\n      <th>10000013</th>\n      <th>28712</th>\n      <th>ATLANTA GA</th>\n      <td>Pink Cab</td>\n      <td>9.04</td>\n      <td>125.20</td>\n      <td>97.632</td>\n      <td>1</td>\n      <td>2016</td>\n      <td>Cash</td>\n      <td>Male</td>\n      <td>53</td>\n      <td>11242</td>\n      <td>814,885</td>\n      <td>24,701</td>\n    </tr>\n    <tr>\n      <th>10000014</th>\n      <th>28020</th>\n      <th>ATLANTA GA</th>\n      <td>Pink Cab</td>\n      <td>33.17</td>\n      <td>377.40</td>\n      <td>351.602</td>\n      <td>1</td>\n      <td>2016</td>\n      <td>Cash</td>\n      <td>Male</td>\n      <td>23</td>\n      <td>23327</td>\n      <td>814,885</td>\n      <td>24,701</td>\n    </tr>\n    <tr>\n      <th>10000015</th>\n      <th>27182</th>\n      <th>ATLANTA GA</th>\n      <td>Pink Cab</td>\n      <td>8.73</td>\n      <td>114.62</td>\n      <td>97.776</td>\n      <td>1</td>\n      <td>2016</td>\n      <td>Card</td>\n      <td>Male</td>\n      <td>33</td>\n      <td>8536</td>\n      <td>814,885</td>\n      <td>24,701</td>\n    </tr>\n  </tbody>\n</table>\n</div>"
     },
     "execution_count": 5,
     "metadata": {},
     "output_type": "execute_result"
    }
   ],
   "source": [
    "left = cab_data.set_index(['transaction_id'])\n",
    "right = transactions_data.set_index(['transaction_id'])\n",
    "data = left.join(right)\n",
    "\n",
    "left = data.set_index([data.index,'customer_id'])\n",
    "right = customers_data.set_index(['customer_id'])\n",
    "data = left.join(right)\n",
    "\n",
    "left = data.set_index([data.index,'city'])\n",
    "right = cities_data.set_index(['city'])\n",
    "data = left.join(right)\n",
    "data.head()"
   ],
   "metadata": {
    "collapsed": false,
    "pycharm": {
     "name": "#%%\n"
    }
   }
  },
  {
   "cell_type": "code",
   "execution_count": 6,
   "outputs": [],
   "source": [
    "pink = data[data['company']=='Pink Cab']\n",
    "yellow = data[data['company']=='Yellow Cab']"
   ],
   "metadata": {
    "collapsed": false,
    "pycharm": {
     "name": "#%%\n"
    }
   }
  },
  {
   "cell_type": "code",
   "execution_count": 7,
   "outputs": [],
   "source": [
    "pink = pink.drop(['company', 'payment_mode', 'gender', 'population', 'users'], axis=1)\n",
    "yellow = yellow.drop(['company', 'payment_mode', 'gender', 'population', 'users'], axis=1)"
   ],
   "metadata": {
    "collapsed": false,
    "pycharm": {
     "name": "#%%\n"
    }
   }
  },
  {
   "cell_type": "code",
   "source": [
    "pink_X = pink.drop(['price_charged'], axis=1)\n",
    "pink_y = pink['price_charged'].copy()\n",
    "\n",
    "yellow_X = yellow.drop(['price_charged'], axis=1)\n",
    "yellow_y = yellow['price_charged'].copy()"
   ],
   "metadata": {
    "collapsed": false,
    "pycharm": {
     "name": "#%%\n"
    }
   },
   "execution_count": 8,
   "outputs": []
  },
  {
   "cell_type": "code",
   "execution_count": 9,
   "outputs": [
    {
     "name": "stdout",
     "output_type": "stream",
     "text": [
      "Test score 68.34080042636451\n"
     ]
    }
   ],
   "source": [
    "X_train, X_test, y_train, y_test = train_test_split(pink_X, pink_y, test_size=0.3)\n",
    "model = LinearRegression().fit(X_train, y_train)\n",
    "pred = model.predict(X_test)\n",
    "print('Test score', np.sqrt(mean_squared_error(y_test, pred)))"
   ],
   "metadata": {
    "collapsed": false,
    "pycharm": {
     "name": "#%%\n"
    }
   }
  },
  {
   "cell_type": "code",
   "execution_count": 10,
   "outputs": [
    {
     "name": "stdout",
     "output_type": "stream",
     "text": [
      "Test score 145.0750539488303\n"
     ]
    }
   ],
   "source": [
    "X_train, X_test, y_train, y_test = train_test_split(yellow_X, yellow_y, test_size=0.3)\n",
    "model = LinearRegression().fit(X_train, y_train)\n",
    "pred = model.predict(X_test)\n",
    "print('Test score', np.sqrt(mean_squared_error(y_test, pred)))"
   ],
   "metadata": {
    "collapsed": false,
    "pycharm": {
     "name": "#%%\n"
    }
   }
  },
  {
   "cell_type": "code",
   "execution_count": 10,
   "outputs": [],
   "source": [],
   "metadata": {
    "collapsed": false,
    "pycharm": {
     "name": "#%%\n"
    }
   }
  }
 ],
 "metadata": {
  "kernelspec": {
   "display_name": "Python 3",
   "language": "python",
   "name": "python3"
  },
  "language_info": {
   "codemirror_mode": {
    "name": "ipython",
    "version": 2
   },
   "file_extension": ".py",
   "mimetype": "text/x-python",
   "name": "python",
   "nbconvert_exporter": "python",
   "pygments_lexer": "ipython2",
   "version": "2.7.6"
  }
 },
 "nbformat": 4,
 "nbformat_minor": 0
}